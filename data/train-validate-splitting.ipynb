{
 "cells": [
  {
   "cell_type": "markdown",
   "metadata": {},
   "source": [
    "Create train and evaluate split of labeled files and write to CSVs"
   ]
  },
  {
   "cell_type": "code",
   "execution_count": 27,
   "metadata": {},
   "outputs": [],
   "source": [
    "import pandas as pd\n",
    "import matplotlib.pyplot as plt"
   ]
  },
  {
   "cell_type": "code",
   "execution_count": 69,
   "metadata": {},
   "outputs": [
    {
     "data": {
      "text/html": [
       "<div>\n",
       "<style scoped>\n",
       "    .dataframe tbody tr th:only-of-type {\n",
       "        vertical-align: middle;\n",
       "    }\n",
       "\n",
       "    .dataframe tbody tr th {\n",
       "        vertical-align: top;\n",
       "    }\n",
       "\n",
       "    .dataframe thead th {\n",
       "        text-align: right;\n",
       "    }\n",
       "</style>\n",
       "<table border=\"1\" class=\"dataframe\">\n",
       "  <thead>\n",
       "    <tr style=\"text-align: right;\">\n",
       "      <th></th>\n",
       "      <th>filename</th>\n",
       "      <th>label</th>\n",
       "    </tr>\n",
       "  </thead>\n",
       "  <tbody>\n",
       "    <tr>\n",
       "      <th>0</th>\n",
       "      <td>gs://reliable-realm-222318-vcm/satellite_imgs/...</td>\n",
       "      <td>ship</td>\n",
       "    </tr>\n",
       "    <tr>\n",
       "      <th>1</th>\n",
       "      <td>gs://reliable-realm-222318-vcm/satellite_imgs/...</td>\n",
       "      <td>ship</td>\n",
       "    </tr>\n",
       "    <tr>\n",
       "      <th>2</th>\n",
       "      <td>gs://reliable-realm-222318-vcm/satellite_imgs/...</td>\n",
       "      <td>ship</td>\n",
       "    </tr>\n",
       "    <tr>\n",
       "      <th>3</th>\n",
       "      <td>gs://reliable-realm-222318-vcm/satellite_imgs/...</td>\n",
       "      <td>ship</td>\n",
       "    </tr>\n",
       "    <tr>\n",
       "      <th>4</th>\n",
       "      <td>gs://reliable-realm-222318-vcm/satellite_imgs/...</td>\n",
       "      <td>ship</td>\n",
       "    </tr>\n",
       "  </tbody>\n",
       "</table>\n",
       "</div>"
      ],
      "text/plain": [
       "                                            filename label\n",
       "0  gs://reliable-realm-222318-vcm/satellite_imgs/...  ship\n",
       "1  gs://reliable-realm-222318-vcm/satellite_imgs/...  ship\n",
       "2  gs://reliable-realm-222318-vcm/satellite_imgs/...  ship\n",
       "3  gs://reliable-realm-222318-vcm/satellite_imgs/...  ship\n",
       "4  gs://reliable-realm-222318-vcm/satellite_imgs/...  ship"
      ]
     },
     "execution_count": 69,
     "metadata": {},
     "output_type": "execute_result"
    }
   ],
   "source": [
    "# Import data\n",
    "df = pd.read_csv('csv/all_data.csv', header=None)\n",
    "df.columns = ['filename', 'label']\n",
    "df.head()"
   ]
  },
  {
   "cell_type": "code",
   "execution_count": 70,
   "metadata": {},
   "outputs": [
    {
     "data": {
      "text/plain": [
       "no_ship    3000\n",
       "ship       1000\n",
       "Name: label, dtype: int64"
      ]
     },
     "execution_count": 70,
     "metadata": {},
     "output_type": "execute_result"
    }
   ],
   "source": [
    "# Total class dist. \n",
    "df['label'].value_counts()"
   ]
  },
  {
   "cell_type": "code",
   "execution_count": 71,
   "metadata": {},
   "outputs": [],
   "source": [
    "# Split DataFrame\n",
    "ship = df[df['label'] == 'ship']\n",
    "no_ship = df[df['label'] == 'no_ship']"
   ]
  },
  {
   "cell_type": "code",
   "execution_count": 72,
   "metadata": {},
   "outputs": [],
   "source": [
    "# shuffle rows\n",
    "ship = ship.sample(frac=1).reset_index(drop=True)\n",
    "no_ship = no_ship.sample(frac=1).reset_index(drop=True)"
   ]
  },
  {
   "cell_type": "code",
   "execution_count": 94,
   "metadata": {},
   "outputs": [
    {
     "name": "stdout",
     "output_type": "stream",
     "text": [
      "valid class:\n",
      "no_ship    750\n",
      "ship       250\n",
      "Name: label, dtype: int64\n",
      "\n",
      "train class:\n",
      "no_ship    2250\n",
      "ship        750\n",
      "Name: label, dtype: int64\n"
     ]
    }
   ],
   "source": [
    "# Calculate validation rows\n",
    "valid_pct = 0.25\n",
    "num_ship_valid = int(ship.shape[0] * valid_pct)\n",
    "num_noship_valid = int(no_ship.shape[0] * valid_pct)\n",
    "\n",
    "# validation split\n",
    "valid_df = pd.DataFrame()\n",
    "valid_df = valid_df.append(ship.iloc[:num_ship_valid])\n",
    "valid_df = valid_df.append(no_ship.iloc[:num_noship_valid])\n",
    "valid_df = valid_df.reset_index(drop=True)\n",
    "valid_df = valid_df.sample(frac=1) # shuffle again!\n",
    "valid_df['label'].value_counts()\n",
    "\n",
    "# train split\n",
    "train_df = pd.DataFrame()\n",
    "train_df = train_df.append(ship.iloc[num_ship_valid:])\n",
    "train_df = train_df.append(no_ship.iloc[num_noship_valid:])\n",
    "train_df = train_df.sample(frac=1)\n",
    "train_df = train_df.reset_index(drop=True)\n",
    "\n",
    "# Class counts for each\n",
    "print('valid class:')\n",
    "print(valid_df['label'].value_counts())\n",
    "print()\n",
    "print('train class:')\n",
    "print(train_df['label'].value_counts())"
   ]
  },
  {
   "cell_type": "code",
   "execution_count": 95,
   "metadata": {},
   "outputs": [
    {
     "name": "stdout",
     "output_type": "stream",
     "text": [
      "<class 'pandas.core.frame.DataFrame'>\n",
      "RangeIndex: 3000 entries, 0 to 2999\n",
      "Data columns (total 2 columns):\n",
      "filename    3000 non-null object\n",
      "label       3000 non-null object\n",
      "dtypes: object(2)\n",
      "memory usage: 47.0+ KB\n",
      "\n",
      "<class 'pandas.core.frame.DataFrame'>\n",
      "Int64Index: 1000 entries, 487 to 365\n",
      "Data columns (total 2 columns):\n",
      "filename    1000 non-null object\n",
      "label       1000 non-null object\n",
      "dtypes: object(2)\n",
      "memory usage: 23.4+ KB\n"
     ]
    }
   ],
   "source": [
    "# data frame info\n",
    "train_df.info()\n",
    "print()\n",
    "valid_df.info()"
   ]
  },
  {
   "cell_type": "code",
   "execution_count": 100,
   "metadata": {},
   "outputs": [],
   "source": [
    "# Write back to CSV\n",
    "train_df.to_csv('csv/train_data.csv', index=False, header=False)  # will overwrite\n",
    "valid_df.to_csv('csv/valid_data.csv', index=False, header=False)"
   ]
  },
  {
   "cell_type": "code",
   "execution_count": 101,
   "metadata": {},
   "outputs": [],
   "source": [
    "# !rm csv/train_imgs.csv"
   ]
  },
  {
   "cell_type": "code",
   "execution_count": 102,
   "metadata": {},
   "outputs": [
    {
     "name": "stdout",
     "output_type": "stream",
     "text": [
      "total 2064\n",
      "-rw-r--r--  1 ericbragas  staff  510394 Nov 16 10:58 all_data.csv\n",
      "-rw-r--r--  1 ericbragas  staff  382776 Nov 16 11:24 train_data.csv\n",
      "-rw-r--r--  1 ericbragas  staff  127618 Nov 16 11:24 valid_data.csv\n"
     ]
    }
   ],
   "source": [
    "!ls -l ./csv"
   ]
  },
  {
   "cell_type": "code",
   "execution_count": 103,
   "metadata": {},
   "outputs": [
    {
     "name": "stdout",
     "output_type": "stream",
     "text": [
      "gs://reliable-realm-222318-vcm/satellite_imgs/no_ship/0__20170724_181036_1011__-122.3396918637242_37.76771252868267.png,no_ship\n",
      "gs://reliable-realm-222318-vcm/satellite_imgs/ship/1__20170921_181406_1031__-122.3378493393171_37.73749919914582.png,ship\n",
      "gs://reliable-realm-222318-vcm/satellite_imgs/no_ship/0__20180712_180429_101b__-118.06740213868301_33.67264908661255.png,no_ship\n",
      "gs://reliable-realm-222318-vcm/satellite_imgs/no_ship/0__20170821_175214_101d__-118.28264453650422_33.737050666114996.png,no_ship\n",
      "gs://reliable-realm-222318-vcm/satellite_imgs/no_ship/0__20161218_180846_0e26__-122.38098418888359_37.66432089876209.png,no_ship\n",
      "gs://reliable-realm-222318-vcm/satellite_imgs/no_ship/0__20170730_181513_0e20__-122.33130488949227_37.74965703015818.png,no_ship\n",
      "gs://reliable-realm-222318-vcm/satellite_imgs/no_ship/0__20170722_181118_101f__-122.43587377363853_37.75544959006133.png,no_ship\n",
      "gs://reliable-realm-222318-vcm/satellite_imgs/no_ship/0__20171207_181550_103c__-122.2040404055541_37.82968587675635.png,no_ship\n",
      "gs://reliable-realm-222318-vcm/satellite_imgs/no_ship/0__20170611_180735_1008__-122.16536153523438_37.68300140459791.png,no_ship\n",
      "gs://reliable-realm-222318-vcm/satellite_imgs/no_ship/0__20170616_180825_100e__-122.35605384864218_37.76236816545125.png,no_ship\n"
     ]
    }
   ],
   "source": [
    "!head ./csv/train_data.csv"
   ]
  },
  {
   "cell_type": "code",
   "execution_count": 104,
   "metadata": {},
   "outputs": [
    {
     "name": "stdout",
     "output_type": "stream",
     "text": [
      "gs://reliable-realm-222318-vcm/satellite_imgs/no_ship/0__20180705_213444_0f02__-122.33424070486853_37.72604117552472.png,no_ship\n",
      "gs://reliable-realm-222318-vcm/satellite_imgs/no_ship/0__20170616_180825_100e__-122.3366245042188_37.760286524892685.png,no_ship\n",
      "gs://reliable-realm-222318-vcm/satellite_imgs/ship/1__20170702_181120_103a__-122.34307250130168_37.7205205808024.png,ship\n",
      "gs://reliable-realm-222318-vcm/satellite_imgs/ship/1__20171118_185722_0f2d__-122.33606293980446_37.7583365292858.png,ship\n",
      "gs://reliable-realm-222318-vcm/satellite_imgs/no_ship/0__20171118_181532_1030__-122.33738353565393_37.7362798061611.png,no_ship\n",
      "gs://reliable-realm-222318-vcm/satellite_imgs/no_ship/0__20170709_181333_0e0e__-122.16539336184846_37.671050191042916.png,no_ship\n",
      "gs://reliable-realm-222318-vcm/satellite_imgs/no_ship/0__20170708_180811_100c__-122.01097475696292_37.65679639945837.png,no_ship\n",
      "gs://reliable-realm-222318-vcm/satellite_imgs/no_ship/0__20170730_181043_103d__-122.34541210935261_37.76022750552693.png,no_ship\n",
      "gs://reliable-realm-222318-vcm/satellite_imgs/no_ship/0__20170615_181510_0e3a__-122.3450920886114_37.77720642035072.png,no_ship\n",
      "gs://reliable-realm-222318-vcm/satellite_imgs/ship/1__20180708_182359_1032__-122.32606722895265_37.700090847100654.png,ship\n"
     ]
    }
   ],
   "source": [
    "!head csv/valid_data.csv"
   ]
  },
  {
   "cell_type": "code",
   "execution_count": 110,
   "metadata": {},
   "outputs": [
    {
     "name": "stdout",
     "output_type": "stream",
     "text": [
      "gs://reliable-realm-222318-vcm/satellite_imgs/csv/all_data.csv\n"
     ]
    }
   ],
   "source": [
    "%%bash\n",
    "gsutil ls gs://reliable-realm-222318-vcm/satellite_imgs/csv/"
   ]
  },
  {
   "cell_type": "code",
   "execution_count": 111,
   "metadata": {},
   "outputs": [
    {
     "name": "stderr",
     "output_type": "stream",
     "text": [
      "CommandException: No URLs matched: gs://reliable-realm-222318-vcm/satellite_imgs/csv/train_data.csv\n",
      "CommandException: No URLs matched: gs://reliable-realm-222318-vcm/satellite_imgs/csv/valid_data.csv\n"
     ]
    }
   ],
   "source": [
    "%%bash\n",
    "gsutil rm gs://reliable-realm-222318-vcm/satellite_imgs/csv/train_data.csv\n",
    "gsutil rm gs://reliable-realm-222318-vcm/satellite_imgs/csv/valid_data.csv"
   ]
  },
  {
   "cell_type": "code",
   "execution_count": 114,
   "metadata": {},
   "outputs": [
    {
     "name": "stdout",
     "output_type": "stream",
     "text": [
      "gs://reliable-realm-222318-vcm/satellite_imgs/csv/all_data.csv\n",
      "gs://reliable-realm-222318-vcm/satellite_imgs/csv/train_data.csv\n",
      "gs://reliable-realm-222318-vcm/satellite_imgs/csv/valid_data.csv\n"
     ]
    },
    {
     "name": "stderr",
     "output_type": "stream",
     "text": [
      "Copying file://./csv/train_data.csv [Content-Type=text/csv]...\n",
      "/ [1 files][373.8 KiB/373.8 KiB]                                                \n",
      "Operation completed over 1 objects/373.8 KiB.                                    \n",
      "Copying file://./csv/valid_data.csv [Content-Type=text/csv]...\n",
      "/ [1 files][124.6 KiB/124.6 KiB]                                                \n",
      "Operation completed over 1 objects/124.6 KiB.                                    \n"
     ]
    }
   ],
   "source": [
    "%%bash\n",
    "gsutil cp ./csv/train_data.csv gs://reliable-realm-222318-vcm/satellite_imgs/csv/\n",
    "gsutil cp ./csv/valid_data.csv gs://reliable-realm-222318-vcm/satellite_imgs/csv/\n",
    "    \n",
    "gsutil ls gs://reliable-realm-222318-vcm/satellite_imgs/csv/"
   ]
  }
 ],
 "metadata": {
  "kernelspec": {
   "display_name": "Python 3",
   "language": "python",
   "name": "python3"
  },
  "language_info": {
   "codemirror_mode": {
    "name": "ipython",
    "version": 3
   },
   "file_extension": ".py",
   "mimetype": "text/x-python",
   "name": "python",
   "nbconvert_exporter": "python",
   "pygments_lexer": "ipython3",
   "version": "3.6.5"
  }
 },
 "nbformat": 4,
 "nbformat_minor": 2
}
