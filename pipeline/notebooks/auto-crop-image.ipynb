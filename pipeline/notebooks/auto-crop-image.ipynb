{
 "cells": [
  {
   "cell_type": "code",
   "execution_count": 21,
   "metadata": {},
   "outputs": [],
   "source": [
    "from PIL import Image\n",
    "import numpy as np\n",
    "import sys"
   ]
  },
  {
   "cell_type": "code",
   "execution_count": 22,
   "metadata": {},
   "outputs": [],
   "source": [
    "image = Image.open('../../data/tmp/20160905_193459_0c37_3B_Visual.tif')"
   ]
  },
  {
   "cell_type": "code",
   "execution_count": null,
   "metadata": {},
   "outputs": [],
   "source": [
    "image"
   ]
  },
  {
   "cell_type": "code",
   "execution_count": 24,
   "metadata": {},
   "outputs": [
    {
     "data": {
      "text/plain": [
       "\u001b[0;31mType:\u001b[0m        property\n",
       "\u001b[0;31mString form:\u001b[0m <property object at 0x10e138458>\n",
       "\u001b[0;31mDocstring:\u001b[0m   <no docstring>\n"
      ]
     },
     "metadata": {},
     "output_type": "display_data"
    }
   ],
   "source": []
  },
  {
   "cell_type": "code",
   "execution_count": null,
   "metadata": {},
   "outputs": [],
   "source": [
    "test = image.rotate(-20, expand=True)\n",
    "test = test.crop(test.getbbox())\n",
    "test"
   ]
  },
  {
   "cell_type": "markdown",
   "metadata": {},
   "source": [
    "Sizes"
   ]
  },
  {
   "cell_type": "code",
   "execution_count": 28,
   "metadata": {},
   "outputs": [
    {
     "data": {
      "text/plain": [
       "40578125"
      ]
     },
     "execution_count": 28,
     "metadata": {},
     "output_type": "execute_result"
    }
   ],
   "source": [
    "h, w = image.size\n",
    "h * w"
   ]
  },
  {
   "cell_type": "code",
   "execution_count": 29,
   "metadata": {},
   "outputs": [
    {
     "data": {
      "text/plain": [
       "True"
      ]
     },
     "execution_count": 29,
     "metadata": {},
     "output_type": "execute_result"
    }
   ],
   "source": [
    "th, tw = test.crop(test.getbbox()).size\n",
    "th * tw < h * w"
   ]
  },
  {
   "cell_type": "markdown",
   "metadata": {},
   "source": [
    "bounding boxes"
   ]
  },
  {
   "cell_type": "code",
   "execution_count": 26,
   "metadata": {},
   "outputs": [
    {
     "data": {
      "text/plain": [
       "(0, 1, 6124, 6624)"
      ]
     },
     "execution_count": 26,
     "metadata": {},
     "output_type": "execute_result"
    }
   ],
   "source": [
    "image.getbbox()"
   ]
  },
  {
   "cell_type": "code",
   "execution_count": 27,
   "metadata": {},
   "outputs": [
    {
     "data": {
      "text/plain": [
       "(0, 0, 7060, 5244)"
      ]
     },
     "execution_count": 27,
     "metadata": {},
     "output_type": "execute_result"
    }
   ],
   "source": [
    "test.getbbox()"
   ]
  },
  {
   "cell_type": "code",
   "execution_count": 30,
   "metadata": {},
   "outputs": [],
   "source": [
    "image1 = image.copy()\n",
    "image2 = image.copy()"
   ]
  },
  {
   "cell_type": "code",
   "execution_count": 31,
   "metadata": {},
   "outputs": [],
   "source": [
    "h1, w1 = image1.size\n",
    "h2, w1 = image2.size"
   ]
  },
  {
   "cell_type": "code",
   "execution_count": 34,
   "metadata": {},
   "outputs": [],
   "source": [
    "image2 = image2.rotate(1, expand=True)\n",
    "image2 = image2.crop(image2.getbbox())"
   ]
  },
  {
   "cell_type": "code",
   "execution_count": 36,
   "metadata": {},
   "outputs": [
    {
     "data": {
      "text/plain": [
       "True"
      ]
     },
     "execution_count": 36,
     "metadata": {},
     "output_type": "execute_result"
    }
   ],
   "source": [
    "h2, w2 = image2.size\n",
    "(h2 * w2) < (h1 * w1)"
   ]
  },
  {
   "cell_type": "code",
   "execution_count": 51,
   "metadata": {},
   "outputs": [
    {
     "name": "stdout",
     "output_type": "stream",
     "text": [
      "Adjusted -42 degrees\n"
     ]
    }
   ],
   "source": [
    "image1 = image.copy()\n",
    "image2 = image.copy()\n",
    "h1, w1 = image1.size\n",
    "h2, w2 = image2.size\n",
    "\n",
    "i = 0\n",
    "image2 = image2.rotate(-1, expand=True)\n",
    "image2 = image2.crop(image2.getbbox())\n",
    "h2, w2 = image2.size\n",
    "\n",
    "while (h1 * w1) > (h2 * w2):\n",
    "    image1 = image2.copy()\n",
    "    h1, w1 = image1.size\n",
    "    \n",
    "    image2 = image2.rotate(-1, expand=True)\n",
    "    image2 = image2.crop(image2.getbbox())\n",
    "    h2, w2 = image2.size\n",
    "    i -= 1\n",
    "    \n",
    "image2 = image2.rotate(1, expand=True)\n",
    "image2 = image2.crop(image2.getbbox())\n",
    "h2, w2 = image2.size\n",
    "\n",
    "while (h1 * w1) > (h2 * w2):\n",
    "    image1 = image2.copy()\n",
    "    h1, w1 = image1.size\n",
    "    \n",
    "    image2 = image2.rotate(1, expand=True)\n",
    "    image2 = image2.crop(image2.getbbox())\n",
    "    h2, w2 = image2.size\n",
    "    i += 1\n",
    "\n",
    "print('Adjusted {} degrees'.format(i))"
   ]
  },
  {
   "cell_type": "code",
   "execution_count": 69,
   "metadata": {},
   "outputs": [
    {
     "name": "stdout",
     "output_type": "stream",
     "text": [
      "Rotation: 9"
     ]
    }
   ],
   "source": [
    "rotations = {}\n",
    "for i in range(10):\n",
    "    image1 = image.copy()\n",
    "    bbox = image1.rotate(i, expand=True).getbbox()\n",
    "    area1 = np.product(image1.crop(bbox).size)\n",
    "    rotations[i] = area1\n",
    "    sys.stdout.write(\"\\rRotation: {}\".format(i))\n",
    "    sys.stdout.flush()"
   ]
  },
  {
   "cell_type": "code",
   "execution_count": 108,
   "metadata": {},
   "outputs": [
    {
     "name": "stdout",
     "output_type": "stream",
     "text": [
      "(6125, 6625) (6125, 6625)\n",
      "Rotation: 0(6125, 6625) (6190, 6572)\n"
     ]
    }
   ],
   "source": [
    "# define a function to rotate an image until it is landscape\n",
    "image1 = image.copy()\n",
    "h1, w1 = image1.size\n",
    "\n",
    "# testing\n",
    "h2, w2 = h1, w1\n",
    "print((h1, w1), (h2, w2))\n",
    "\n",
    "# for i in range(180):\n",
    "#     tmp = image1.copy()\n",
    "#     tmp = tmp.rotate(i, expand=True)\n",
    "#     h2, w2 = tmp.crop(tmp.getbbox()).size\n",
    "#     if w2 > w1 or h2 < h1:\n",
    "#         sys.stdout.write(\"\\rRotation: {}\".format(i))\n",
    "#         sys.stdout.flush()\n",
    "#     else:\n",
    "#         print((h1, w1), (h2, w2))\n",
    "#         break\n",
    "\n",
    "for i in range(180):\n",
    "    tmp = image1.copy()\n",
    "    tmp = tmp.rotate(-i, expand=True)\n",
    "    tmp = tmp.crop(tmp.getbbox())\n",
    "    h2, w2 = tmp.size\n",
    "\n",
    "    if h2 * w2 < h1 * w1:\n",
    "        sys.stdout.write(\"\\rRotation: {}\".format(-i))\n",
    "        sys.stdout.flush()\n",
    "    else:\n",
    "        print((h1, w1), (h2, w2))\n",
    "        break"
   ]
  },
  {
   "cell_type": "code",
   "execution_count": null,
   "metadata": {},
   "outputs": [],
   "source": [
    "toy = image.rotate(-25, expand=True)\n",
    "toy = toy.crop(toy.getbbox())\n",
    "toy"
   ]
  },
  {
   "cell_type": "code",
   "execution_count": 20,
   "metadata": {},
   "outputs": [
    {
     "ename": "NameError",
     "evalue": "name 'toy' is not defined",
     "output_type": "error",
     "traceback": [
      "\u001b[0;31m---------------------------------------------------------------------------\u001b[0m",
      "\u001b[0;31mNameError\u001b[0m                                 Traceback (most recent call last)",
      "\u001b[0;32m<ipython-input-20-cfc05ee255ff>\u001b[0m in \u001b[0;36m<module>\u001b[0;34m()\u001b[0m\n\u001b[0;32m----> 1\u001b[0;31m \u001b[0mtoy\u001b[0m\u001b[0;34m.\u001b[0m\u001b[0msize\u001b[0m\u001b[0;34m\u001b[0m\u001b[0m\n\u001b[0m",
      "\u001b[0;31mNameError\u001b[0m: name 'toy' is not defined"
     ]
    }
   ],
   "source": [
    "toy.size"
   ]
  },
  {
   "cell_type": "code",
   "execution_count": 130,
   "metadata": {},
   "outputs": [
    {
     "name": "stdout",
     "output_type": "stream",
     "text": [
      "Original area: 40559252\n",
      "Rotation: 359"
     ]
    }
   ],
   "source": [
    "image1 = image.copy()\n",
    "image1 = image1.crop(image1.getbbox())\n",
    "size1 = np.product(image1.size)\n",
    "print('Original area: {}'.format(size1))\n",
    "\n",
    "areas = []\n",
    "for i in range(360):\n",
    "    image2 = image.copy()\n",
    "    image2 = image2.rotate(i, expand=True)\n",
    "    image2 = image2.crop(image2.getbbox())\n",
    "    size2 = np.product(image2.size)\n",
    "    areas.append(size2)\n",
    "    sys.stdout.write(\"\\rRotation: {}\".format(i))"
   ]
  },
  {
   "cell_type": "code",
   "execution_count": 131,
   "metadata": {},
   "outputs": [],
   "source": [
    "import matplotlib.pyplot as plt"
   ]
  },
  {
   "cell_type": "code",
   "execution_count": 135,
   "metadata": {},
   "outputs": [
    {
     "data": {
      "text/plain": [
       "[<matplotlib.lines.Line2D at 0x10327bbe0>]"
      ]
     },
     "execution_count": 135,
     "metadata": {},
     "output_type": "execute_result"
    },
    {
     "data": {
      "image/png": "[encoded data removed]",
      "text/plain": [
       "<Figure size 432x288 with 1 Axes>"
      ]
     },
     "metadata": {},
     "output_type": "display_data"
    }
   ],
   "source": [
    "areas = np.array(areas)\n",
    "rotations = np.arange(360)\n",
    "\n",
    "plt.plot(rotations, areas)"
   ]
  },
  {
   "cell_type": "code",
   "execution_count": 150,
   "metadata": {},
   "outputs": [
    {
     "data": {
      "text/plain": [
       "41"
      ]
     },
     "execution_count": 150,
     "metadata": {},
     "output_type": "execute_result"
    }
   ],
   "source": [
    "rotations[np.argmin(areas)]"
   ]
  },
  {
   "cell_type": "code",
   "execution_count": 145,
   "metadata": {},
   "outputs": [
    {
     "name": "stdout",
     "output_type": "stream",
     "text": [
      "Rotation: 43"
     ]
    }
   ],
   "source": [
    "image1 = image.copy()\n",
    "area1 = np.product(image1.size)\n",
    "\n",
    "condition = True\n",
    "i = 1\n",
    "while condition:\n",
    "    image2 = image1.copy()\n",
    "    image2 = image2.rotate(i, expand=True)\n",
    "    image2 = image2.crop(image2.getbbox())\n",
    "    area2 = np.product(image2.size)\n",
    "    condition = area2 < area1\n",
    "\n",
    "    i += 1\n",
    "    area1 = area2\n",
    "    sys.stdout.write(\"\\rRotation: {}\".format(i))\n",
    "\n",
    "result = image.copy()\n",
    "result = result.rotate(i - 1, expand=True)\n",
    "result = result.crop(result.getbbox())"
   ]
  },
  {
   "cell_type": "code",
   "execution_count": null,
   "metadata": {},
   "outputs": [],
   "source": [
    "result = image.copy()\n",
    "result = result.rotate(i - 1, expand=True)\n",
    "result = result.crop(result.getbbox())\n",
    "result"
   ]
  },
  {
   "cell_type": "code",
   "execution_count": 159,
   "metadata": {},
   "outputs": [
    {
     "data": {
      "text/plain": [
       "((2180, 6899), (0, 0, 2180, 6899))"
      ]
     },
     "execution_count": 159,
     "metadata": {},
     "output_type": "execute_result"
    }
   ],
   "source": [
    "size = result.size\n",
    "bbox = result.getbbox()\n",
    "size, bbox"
   ]
  },
  {
   "cell_type": "code",
   "execution_count": 176,
   "metadata": {},
   "outputs": [],
   "source": [
    "def brute_force_auto_rotate(image):\n",
    "    img = image.copy()\n",
    "    areas = []\n",
    "    for i in range(45):\n",
    "        img = img.rotate(-i, expand=True)\n",
    "        img = img.crop(img.getbbox())\n",
    "        areas.append(np.product(img.size))\n",
    "        \n",
    "    return -np.argmin(areas)"
   ]
  },
  {
   "cell_type": "code",
   "execution_count": 196,
   "metadata": {},
   "outputs": [],
   "source": [
    "def _get_area(img, degree_rotation):\n",
    "    img = img.rotate(degree_rotation, expand=True)\n",
    "    img = img.crop(img.getbbox())\n",
    "    return np.prod(img.size)\n",
    "\n",
    "def parallel_auto_rotate(image, processes=4):\n",
    "    img = image.copy()\n",
    "    \n",
    "    pool = multiprocessing.Pool(processes=processes)\n",
    "    result = pool.starmap(_get_area, zip(repeat(img), range(45)))\n",
    "    return np.argmin(result)"
   ]
  },
  {
   "cell_type": "code",
   "execution_count": 193,
   "metadata": {},
   "outputs": [],
   "source": [
    "import multiprocessing\n",
    "from itertools import product, repeat"
   ]
  },
  {
   "cell_type": "code",
   "execution_count": null,
   "metadata": {},
   "outputs": [
    {
     "name": "stdout",
     "output_type": "stream",
     "text": [
      "41\n"
     ]
    }
   ],
   "source": [
    "toy = image.copy()\n",
    "degrees = parallel_auto_rotate(toy)\n",
    "print(degrees)\n",
    "toy = toy.rotate(degrees, expand=True)\n",
    "toy = toy.crop(toy.getbbox())\n",
    "toy"
   ]
  },
  {
   "cell_type": "code",
   "execution_count": 9,
   "metadata": {},
   "outputs": [
    {
     "data": {
      "text/plain": [
       "array([ 0, -1, -2, -3, -4, -5, -6, -7, -8, -9])"
      ]
     },
     "execution_count": 9,
     "metadata": {},
     "output_type": "execute_result"
    }
   ],
   "source": [
    "import numpy as np\n",
    "np.arange(-10, step=-1)"
   ]
  },
  {
   "cell_type": "code",
   "execution_count": 14,
   "metadata": {},
   "outputs": [],
   "source": [
    "from datetime import datetime"
   ]
  },
  {
   "cell_type": "code",
   "execution_count": 10,
   "metadata": {},
   "outputs": [],
   "source": [
    "name = 'PSScene3Band_1235_34973495_ab_visual.tiff'"
   ]
  },
  {
   "cell_type": "code",
   "execution_count": 19,
   "metadata": {},
   "outputs": [
    {
     "data": {
      "text/plain": [
       "'PSScene3Band_1235_34973495_ab_visual_annotated_20181125_202249.tiff'"
      ]
     },
     "execution_count": 19,
     "metadata": {},
     "output_type": "execute_result"
    }
   ],
   "source": [
    "today = datetime.today().strftime('%Y%m%d_%H%M%S')\n",
    "name[:name.find('.')] + f'_annotated_{today}.tiff'"
   ]
  }
 ],
 "metadata": {
  "kernelspec": {
   "display_name": "Python 3",
   "language": "python",
   "name": "python3"
  },
  "language_info": {
   "codemirror_mode": {
    "name": "ipython",
    "version": 3
   },
   "file_extension": ".py",
   "mimetype": "text/x-python",
   "name": "python",
   "nbconvert_exporter": "python",
   "pygments_lexer": "ipython3",
   "version": "3.6.5"
  }
 },
 "nbformat": 4,
 "nbformat_minor": 2
}
