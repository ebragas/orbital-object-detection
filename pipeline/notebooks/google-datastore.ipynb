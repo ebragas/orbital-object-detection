{
 "cells": [
  {
   "cell_type": "markdown",
   "metadata": {},
   "source": [
    "## Test all the things!\n",
    "* Write/update transactions to get confirmation of success/failure\n",
    "* Custom indexes to make querying by properties possible"
   ]
  },
  {
   "cell_type": "code",
   "execution_count": 2,
   "metadata": {},
   "outputs": [],
   "source": [
    "from google.cloud import datastore\n",
    "from datetime import datetime\n",
    "\n",
    "PROJECT = 'reliable-realm-222318'"
   ]
  },
  {
   "cell_type": "code",
   "execution_count": 3,
   "metadata": {},
   "outputs": [],
   "source": [
    "client = datastore.Client(project=PROJECT)"
   ]
  },
  {
   "cell_type": "markdown",
   "metadata": {},
   "source": [
    "### Transactions"
   ]
  },
  {
   "cell_type": "code",
   "execution_count": 35,
   "metadata": {},
   "outputs": [],
   "source": [
    "with client.transaction() as xact:\n",
    "    key = client.key('Task')\n",
    "    item = datastore.Entity(key=key)\n",
    "    item['description'] = 'return a value maybe?'\n",
    "    client.put(item)\n",
    "    mutations = xact.mutations"
   ]
  },
  {
   "cell_type": "code",
   "execution_count": 45,
   "metadata": {},
   "outputs": [],
   "source": [
    "mut = mutations[0]"
   ]
  },
  {
   "cell_type": "code",
   "execution_count": 53,
   "metadata": {},
   "outputs": [],
   "source": [
    "from google.protobuf.json_format import MessageToDict"
   ]
  },
  {
   "cell_type": "code",
   "execution_count": 56,
   "metadata": {},
   "outputs": [],
   "source": [
    "mut_dict = MessageToDict(mut)"
   ]
  },
  {
   "cell_type": "code",
   "execution_count": null,
   "metadata": {},
   "outputs": [],
   "source": []
  },
  {
   "cell_type": "markdown",
   "metadata": {},
   "source": [
    "## Querying"
   ]
  },
  {
   "cell_type": "code",
   "execution_count": 4,
   "metadata": {},
   "outputs": [],
   "source": [
    "key = client.key('PlanetScenes', '20180601_182755_0f33')\n",
    "result = client.get(key)\n",
    "\n",
    "# result.keys()"
   ]
  },
  {
   "cell_type": "code",
   "execution_count": 6,
   "metadata": {},
   "outputs": [
    {
     "data": {
      "text/plain": [
       "'20180601_182755_0f33'"
      ]
     },
     "execution_count": 6,
     "metadata": {},
     "output_type": "execute_result"
    }
   ],
   "source": [
    "result['id']"
   ]
  },
  {
   "cell_type": "code",
   "execution_count": 4,
   "metadata": {},
   "outputs": [],
   "source": [
    "query = client.query(kind='PlanetScenes')\n",
    "# query.projection = ['images']\n",
    "# query.projection = ['assets.visual.status', 'assets.visual.location']\n",
    "# query.projection = ['visual_downloaded']\n",
    "# query.order = ['images.visual']\n",
    "# query.order = ['-properties.acquired']\n",
    "query.add_filter('visual_downloaded', '=', True)\n",
    "query.add_filter('visual_annotated', '=', False)\n",
    "# query.projection = ['images.visual']\n",
    "# query.distinct_on = ['visual_downloaded']\n",
    "result = list(query.fetch(limit=50))"
   ]
  },
  {
   "cell_type": "code",
   "execution_count": 5,
   "metadata": {},
   "outputs": [
    {
     "data": {
      "text/plain": [
       "'2018-06-01T18:22:49.091758Z'"
      ]
     },
     "execution_count": 5,
     "metadata": {},
     "output_type": "execute_result"
    }
   ],
   "source": [
    "result[0]['properties']['acquired']"
   ]
  },
  {
   "cell_type": "code",
   "execution_count": 6,
   "metadata": {},
   "outputs": [],
   "source": [
    "Z"
   ]
  },
  {
   "cell_type": "code",
   "execution_count": 7,
   "metadata": {},
   "outputs": [
    {
     "data": {
      "text/plain": [
       "20"
      ]
     },
     "execution_count": 7,
     "metadata": {},
     "output_type": "execute_result"
    }
   ],
   "source": [
    "len(result)"
   ]
  },
  {
   "cell_type": "code",
   "execution_count": 121,
   "metadata": {},
   "outputs": [
    {
     "data": {
      "text/plain": [
       "b'{\\n  \"error\": {\\n    \"code\": 401,\\n    \"message\": \"Request is missing required authentication credential. Expected OAuth 2 access token, login cookie or other valid authentication credential. See https://developers.google.com/identity/sign-in/web/devconsole-project.\",\\n    \"status\": \"UNAUTHENTICATED\"\\n  }\\n}\\n'"
      ]
     },
     "execution_count": 121,
     "metadata": {},
     "output_type": "execute_result"
    }
   ],
   "source": [
    "import requests\n",
    "URL = 'https://datastore.googleapis.com/v1/projects/{}/indexes'.format(PROJECT)\n",
    "requests.get(URL).content"
   ]
  },
  {
   "cell_type": "code",
   "execution_count": null,
   "metadata": {},
   "outputs": [],
   "source": [
    "import google"
   ]
  },
  {
   "cell_type": "code",
   "execution_count": 78,
   "metadata": {},
   "outputs": [
    {
     "data": {
      "text/plain": [
       "['2018-07-14T18:23:29.181777Z',\n",
       " '2018-07-14T18:21:55.152113Z',\n",
       " '2018-07-14T18:04:27.29376Z']"
      ]
     },
     "execution_count": 78,
     "metadata": {},
     "output_type": "execute_result"
    }
   ],
   "source": [
    "[r['properties.acquired'] for r in result]"
   ]
  },
  {
   "cell_type": "code",
   "execution_count": 206,
   "metadata": {},
   "outputs": [],
   "source": [
    "query = client.query(kind='PlanetScenes')\n",
    "query.projection = ['images.visual']\n",
    "result = list(query.fetch(limit=10))"
   ]
  },
  {
   "cell_type": "code",
   "execution_count": 207,
   "metadata": {},
   "outputs": [
    {
     "data": {
      "text/plain": [
       "[]"
      ]
     },
     "execution_count": 207,
     "metadata": {},
     "output_type": "execute_result"
    }
   ],
   "source": [
    "result"
   ]
  },
  {
   "cell_type": "markdown",
   "metadata": {},
   "source": [
    "## Cursor"
   ]
  },
  {
   "cell_type": "code",
   "execution_count": 297,
   "metadata": {},
   "outputs": [],
   "source": [
    "query = client.query(kind='PlanetScenes')\n",
    "query.add_filter('visual_downloaded', '=', True)\n",
    "query.add_filter('visual_annotated', '=', False)\n",
    "result = list(query.fetch(limit=10))"
   ]
  },
  {
   "cell_type": "code",
   "execution_count": 304,
   "metadata": {},
   "outputs": [],
   "source": [
    "def get_one_page_of_tasks(cursor=None):\n",
    "    query = client.query(kind='PlanetScenes')\n",
    "    query.add_filter('visual_downloaded', '=', True)\n",
    "    query.add_filter('visual_annotated', '=', False)\n",
    "    query.order = ['-properties.acquired']\n",
    "\n",
    "    query_iter = query.fetch(start_cursor=cursor, limit=5)\n",
    "    page = next(query_iter.pages)\n",
    "\n",
    "    entities = list(page)\n",
    "    next_cursor = query_iter.next_page_token\n",
    "\n",
    "    return entities, next_cursor"
   ]
  },
  {
   "cell_type": "code",
   "execution_count": 306,
   "metadata": {},
   "outputs": [],
   "source": [
    "results, next_cursor = get_one_page_of_tasks(cursor=None)"
   ]
  },
  {
   "cell_type": "code",
   "execution_count": 307,
   "metadata": {},
   "outputs": [
    {
     "data": {
      "text/plain": [
       "(5,\n",
       " b'CkcSQWoXc35yZWxpYWJsZS1yZWFsbS0yMjIzMThyJgsSDFBsYW5ldFNjZW5lcyIUMjAxODA2MDJfMTgyMzA1XzEwMmUMGAAgAA==')"
      ]
     },
     "execution_count": 307,
     "metadata": {},
     "output_type": "execute_result"
    }
   ],
   "source": [
    "len(results), next_cursor"
   ]
  },
  {
   "cell_type": "code",
   "execution_count": 311,
   "metadata": {},
   "outputs": [
    {
     "name": "stdout",
     "output_type": "stream",
     "text": [
      "b'CkcSQWoXc35yZWxpYWJsZS1yZWFsbS0yMjIzMThyJgsSDFBsYW5ldFNjZW5lcyIUMjAxODA2MDJfMTgyMzA1XzEwMmUMGAAgAA=='\n",
      "b'CkcSQWoXc35yZWxpYWJsZS1yZWFsbS0yMjIzMThyJgsSDFBsYW5ldFNjZW5lcyIUMjAxODA2MDJfMjEzNTQxXzBmMDIMGAAgAA=='\n",
      "b'CkcSQWoXc35yZWxpYWJsZS1yZWFsbS0yMjIzMThyJgsSDFBsYW5ldFNjZW5lcyIUMjAxODA2MDRfMTgyMzI0XzBlMGYMGAAgAA=='\n",
      "None\n",
      "b'CkcSQWoXc35yZWxpYWJsZS1yZWFsbS0yMjIzMThyJgsSDFBsYW5ldFNjZW5lcyIUMjAxODA2MDJfMTgyMzA1XzEwMmUMGAAgAA=='\n",
      "b'CkcSQWoXc35yZWxpYWJsZS1yZWFsbS0yMjIzMThyJgsSDFBsYW5ldFNjZW5lcyIUMjAxODA2MDJfMjEzNTQxXzBmMDIMGAAgAA=='\n",
      "b'CkcSQWoXc35yZWxpYWJsZS1yZWFsbS0yMjIzMThyJgsSDFBsYW5ldFNjZW5lcyIUMjAxODA2MDRfMTgyMzI0XzBlMGYMGAAgAA=='\n",
      "None\n"
     ]
    }
   ],
   "source": [
    "next_cursor = None\n",
    "for i in range(8):\n",
    "    results, next_cursor = get_one_page_of_tasks(cursor=next_cursor)\n",
    "    print(next_cursor)"
   ]
  }
 ],
 "metadata": {
  "kernelspec": {
   "display_name": "Python 3",
   "language": "python",
   "name": "python3"
  },
  "language_info": {
   "codemirror_mode": {
    "name": "ipython",
    "version": 3
   },
   "file_extension": ".py",
   "mimetype": "text/x-python",
   "name": "python",
   "nbconvert_exporter": "python",
   "pygments_lexer": "ipython3",
   "version": "3.6.5"
  }
 },
 "nbformat": 4,
 "nbformat_minor": 2
}
