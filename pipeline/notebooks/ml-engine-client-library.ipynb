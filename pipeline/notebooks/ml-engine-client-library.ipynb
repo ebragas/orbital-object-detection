{
 "cells": [
  {
   "cell_type": "markdown",
   "metadata": {},
   "source": [
    "source: https://cloud.google.com/ml-engine/docs/tensorflow/python-guide"
   ]
  },
  {
   "cell_type": "markdown",
   "metadata": {},
   "source": [
    "## Imports"
   ]
  },
  {
   "cell_type": "code",
   "execution_count": 107,
   "metadata": {},
   "outputs": [],
   "source": [
    "from oauth2client.client import GoogleCredentials\n",
    "from googleapiclient import discovery\n",
    "\n",
    "from pprint import pprint"
   ]
  },
  {
   "cell_type": "code",
   "execution_count": 97,
   "metadata": {},
   "outputs": [],
   "source": [
    "# build a client object\n",
    "ml = discovery.build('ml', 'v1')"
   ]
  },
  {
   "cell_type": "code",
   "execution_count": 3,
   "metadata": {},
   "outputs": [
    {
     "name": "stdout",
     "output_type": "stream",
     "text": [
      "PROJECT_ID             NAME                           PROJECT_NUMBER\n",
      "reliable-realm-222318  planetary-cargo-ship-detector  443054654239\n"
     ]
    }
   ],
   "source": [
    "!gcloud projects list"
   ]
  },
  {
   "cell_type": "code",
   "execution_count": 100,
   "metadata": {},
   "outputs": [],
   "source": [
    "PROJECT = 'reliable-realm-222318'\n",
    "\n",
    "projectID = 'projects/{}'.format(PROJECT)\n",
    "\n",
    "projectID"
   ]
  },
  {
   "cell_type": "markdown",
   "metadata": {},
   "source": [
    "1. Make a request\n",
    "2. Use the request\n",
    "\n",
    "The client object acts as the root of the API, and each API path is accessed as a method path."
   ]
  },
  {
   "cell_type": "code",
   "execution_count": 101,
   "metadata": {},
   "outputs": [],
   "source": [
    "# List models\n",
    "request = ml.projects().models().list(parent=projectID)\n",
    "\n",
    "response = request.execute()"
   ]
  },
  {
   "cell_type": "code",
   "execution_count": 102,
   "metadata": {},
   "outputs": [
    {
     "data": {
      "text/plain": [
       "['projects/reliable-realm-222318/models/mnist',\n",
       " 'projects/reliable-realm-222318/models/satellite',\n",
       " 'projects/reliable-realm-222318/models/satellite_transfer']"
      ]
     },
     "execution_count": 102,
     "metadata": {},
     "output_type": "execute_result"
    }
   ],
   "source": [
    "[model['name'] for model in response['models']]"
   ]
  },
  {
   "cell_type": "code",
   "execution_count": 103,
   "metadata": {},
   "outputs": [],
   "source": [
    "# List versions for a model\n",
    "modelID = 'projects/reliable-realm-222318/models/satellite'\n",
    "request = ml.projects().models().versions().list(parent=modelID)\n",
    "response = request.execute()"
   ]
  },
  {
   "cell_type": "code",
   "execution_count": 104,
   "metadata": {},
   "outputs": [
    {
     "data": {
      "text/plain": [
       "{'versions': [{'name': 'projects/reliable-realm-222318/models/satellite/versions/v01',\n",
       "   'isDefault': True,\n",
       "   'deploymentUri': 'gs://reliable-realm-222318-mlengine/satellite_training_181121_133936/output/export/exporter/1542837757/',\n",
       "   'createTime': '2018-11-21T22:05:43Z',\n",
       "   'lastUseTime': '2018-11-22T04:44:13Z',\n",
       "   'runtimeVersion': '1.10',\n",
       "   'state': 'READY',\n",
       "   'etag': 'rI7uXzFt2xM=',\n",
       "   'framework': 'TENSORFLOW',\n",
       "   'machineType': 'mls1-c1-m2',\n",
       "   'pythonVersion': '3.5'}]}"
      ]
     },
     "execution_count": 104,
     "metadata": {},
     "output_type": "execute_result"
    }
   ],
   "source": [
    "response"
   ]
  },
  {
   "cell_type": "code",
   "execution_count": 105,
   "metadata": {},
   "outputs": [
    {
     "data": {
      "image/png": "[encoded data removed]",
      "text/plain": [
       "<PIL.Image.Image image mode=RGBA size=80x80 at 0x107F220F0>"
      ]
     },
     "execution_count": 105,
     "metadata": {},
     "output_type": "execute_result"
    }
   ],
   "source": [
    "from PIL import Image, ImageDraw\n",
    "from io import BytesIO\n",
    "import base64\n",
    "\n",
    "toy = Image.open('../../data/scenes/sfbay_1.png')\n",
    "\n",
    "HEIGHT = 80\n",
    "WIDTH = 80\n",
    "DEPTH = 3\n",
    "STEP = 10\n",
    "\n",
    "l = 1640\n",
    "t = 430\n",
    "toy = toy.crop((l, t, l + WIDTH, t + HEIGHT))\n",
    "clip1 = toy.copy()\n",
    "clip1"
   ]
  },
  {
   "cell_type": "code",
   "execution_count": 68,
   "metadata": {},
   "outputs": [],
   "source": [
    "# import base64, sys, json\n",
    "\n",
    "# image = open('../../data/imgs/ship/1__20150830_000652_1_0b07__-122.32370681389538_37.72016772243502.png', 'rb')\n",
    "# image_read = image.read()\n",
    "# b64 = base64.b64encode(image_read)"
   ]
  },
  {
   "cell_type": "code",
   "execution_count": 70,
   "metadata": {},
   "outputs": [],
   "source": [
    "# model_id = 'projects/reliable-realm-222318/models/satellite'\n",
    "\n",
    "# # image_bytes = BytesIO()\n",
    "# # clip1.save(image_bytes, format='PNG')\n",
    "# # image_bytes = image_bytes.getvalue()\n",
    "\n",
    "# body = {'image': {'image_bytes': b64}}\n",
    "\n",
    "# request = ml.projects()\n",
    "# request.predict(name=model_id, body=body)"
   ]
  },
  {
   "cell_type": "code",
   "execution_count": 75,
   "metadata": {},
   "outputs": [],
   "source": [
    "def predict_json(project, model, instances, version=None):\n",
    "    \"\"\"Send json data to a deployed model for prediction.\n",
    "\n",
    "    Args:\n",
    "        project (str): project where the Cloud ML Engine Model is deployed.\n",
    "        model (str): model name.\n",
    "        instances ([Mapping[str: Any]]): Keys should be the names of Tensors\n",
    "            your deployed model expects as inputs. Values should be datatypes\n",
    "            convertible to Tensors, or (potentially nested) lists of datatypes\n",
    "            convertible to tensors.\n",
    "        version: str, version of the model to target.\n",
    "    Returns:\n",
    "        Mapping[str: any]: dictionary of prediction results defined by the\n",
    "            model.\n",
    "    \"\"\"\n",
    "    # Create the ML Engine service object.\n",
    "    # To authenticate set the environment variable\n",
    "    # GOOGLE_APPLICATION_CREDENTIALS=<path_to_service_account_file>\n",
    "    service = discovery.build('ml', 'v1')\n",
    "    name = 'projects/{}/models/{}'.format(project, model)\n",
    "\n",
    "    if version is not None:\n",
    "        name += '/versions/{}'.format(version)\n",
    "\n",
    "    response = service.projects().predict(\n",
    "        name=name,\n",
    "        body={'instances': instances}\n",
    "    ).execute()\n",
    "\n",
    "    if 'error' in response:\n",
    "        raise RuntimeError(response['error'])\n",
    "\n",
    "    return response['predictions']"
   ]
  },
  {
   "cell_type": "code",
   "execution_count": 188,
   "metadata": {},
   "outputs": [
    {
     "data": {
      "image/png": "[encoded data removed]",
      "text/plain": [
       "<PIL.Image.Image image mode=RGBA size=80x80 at 0x107F220F0>"
      ]
     },
     "execution_count": 188,
     "metadata": {},
     "output_type": "execute_result"
    }
   ],
   "source": [
    "clip1"
   ]
  },
  {
   "cell_type": "markdown",
   "metadata": {},
   "source": [
    "### Online Predictions from Python2 Base64"
   ]
  },
  {
   "cell_type": "code",
   "execution_count": 207,
   "metadata": {},
   "outputs": [],
   "source": [
    "with open('../../tensorflow-cnn/satellite_model/request.json') as file:\n",
    "    content = json.loads(file.read())\n",
    "\n",
    "# content['key'] = '0001'\n",
    "# content"
   ]
  },
  {
   "cell_type": "code",
   "execution_count": 191,
   "metadata": {},
   "outputs": [],
   "source": [
    "request = ml.projects().predict(name='projects/reliable-realm-222318/models/satellite',\n",
    "                                body={'instances': content}).execute()"
   ]
  },
  {
   "cell_type": "code",
   "execution_count": 192,
   "metadata": {},
   "outputs": [
    {
     "name": "stdout",
     "output_type": "stream",
     "text": [
      "{'predictions': [{'class': 'no_ship',\n",
      "                  'classid': 0,\n",
      "                  'probabilities': [0.999603807926178,\n",
      "                                    0.00039620129973627627]}]}\n"
     ]
    }
   ],
   "source": [
    "pprint(request)"
   ]
  },
  {
   "cell_type": "markdown",
   "metadata": {},
   "source": [
    "### Online Predictions from Python3 Base64"
   ]
  },
  {
   "cell_type": "code",
   "execution_count": 215,
   "metadata": {},
   "outputs": [
    {
     "data": {
      "text/plain": [
       "{'predictions': [{'class': 'ship',\n",
       "   'probabilities': [0.0028550701681524515, 0.997144877910614],\n",
       "   'classid': 1}]}"
      ]
     },
     "execution_count": 215,
     "metadata": {},
     "output_type": "execute_result"
    }
   ],
   "source": [
    "import base64\n",
    "from io import BytesIO\n",
    "\n",
    "model_id = 'projects/reliable-realm-222318/models/satellite'\n",
    "\n",
    "image_bytes = BytesIO()\n",
    "clip1.save(image_bytes, format='PNG')\n",
    "image_bytes = image_bytes\n",
    "\n",
    "body = {'instances': {'image_bytes': {'b64': base64.b64encode(image_bytes.getvalue()).decode()}}}\n",
    "\n",
    "request = ml.projects()\n",
    "response = request.predict(name=model_id, body=body).execute()\n",
    "response"
   ]
  },
  {
   "cell_type": "markdown",
   "metadata": {},
   "source": [
    "### Batch Predictions"
   ]
  },
  {
   "cell_type": "markdown",
   "metadata": {},
   "source": [
    "#### Make Batch Job Body function"
   ]
  },
  {
   "cell_type": "code",
   "execution_count": 139,
   "metadata": {},
   "outputs": [],
   "source": [
    "import time\n",
    "import re\n",
    "\n",
    "def make_batch_job_body(project_name, input_paths, output_path,\n",
    "        model_name, region, data_format='JSON',\n",
    "        version_name=None, max_worker_count=None,\n",
    "        runtime_version=None):\n",
    "\n",
    "    project_id = 'projects/{}'.format(project_name)\n",
    "    model_id = '{}/models/{}'.format(project_id, model_name)\n",
    "    if version_name:\n",
    "        version_id = '{}/versions/{}'.format(model_id, version_name)\n",
    "\n",
    "    # Make a jobName of the format \"model_name_batch_predict_YYYYMMDD_HHMMSS\"\n",
    "    timestamp = time.strftime('%Y%m%d_%H%M%S', time.gmtime())\n",
    "\n",
    "    # Make sure the project name is formatted correctly to work as the basis\n",
    "    # of a valid job name.\n",
    "    clean_project_name = re.sub(r'\\W+', '_', project_name)\n",
    "\n",
    "    job_id = '{}_{}_{}'.format(clean_project_name, model_name,\n",
    "                           timestamp)\n",
    "\n",
    "    # Start building the request dictionary with required information.\n",
    "    body = {'jobId': job_id,\n",
    "            'predictionInput': {\n",
    "                'dataFormat': data_format,\n",
    "                'inputPaths': input_paths,\n",
    "                'outputPath': output_path,\n",
    "                'region': region}}\n",
    "\n",
    "    # Use the version if present, the model (its default version) if not.\n",
    "    if version_name:\n",
    "        body['predictionInput']['versionName'] = version_id\n",
    "    else:\n",
    "        body['predictionInput']['modelName'] = model_id\n",
    "\n",
    "    # Only include a maximum number of workers or a runtime version if specified.\n",
    "    # Otherwise let the service use its defaults.\n",
    "    if max_worker_count:\n",
    "        body['predictionInput']['maxWorkerCount'] = max_worker_count\n",
    "\n",
    "    if runtime_version:\n",
    "        body['predictionInput']['runtimeVersion'] = runtime_version\n",
    "\n",
    "    return body"
   ]
  },
  {
   "cell_type": "code",
   "execution_count": 198,
   "metadata": {},
   "outputs": [],
   "source": [
    "project_name = 'reliable-realm-222318'\n",
    "\n",
    "# !gsutil ls gs://reliable-realm-222318-vcm/pipeline/batch_inputs\n",
    "input_paths = ['gs://reliable-realm-222318-vcm/pipeline/batch_inputs/request1.json',\n",
    "               'gs://reliable-realm-222318-vcm/pipeline/batch_inputs/request2.json',\n",
    "               'gs://reliable-realm-222318-vcm/pipeline/batch_inputs/request3.json']\n",
    "# input_paths = ['gs://reliable-realm-222318-vcm/pipeline/batch_inputs/request1.json']\n",
    "\n",
    "output_path = 'gs://reliable-realm-222318-vcm/pipeline/batch_outputs'\n",
    "\n",
    "model_name = 'satellite'"
   ]
  },
  {
   "cell_type": "code",
   "execution_count": 199,
   "metadata": {},
   "outputs": [
    {
     "name": "stdout",
     "output_type": "stream",
     "text": [
      "{'jobId': 'reliable_realm_222318_satellite_20181122_175215',\n",
      " 'predictionInput': {'dataFormat': 'JSON',\n",
      "                     'inputPaths': ['gs://reliable-realm-222318-vcm/pipeline/batch_inputs/request1.json',\n",
      "                                    'gs://reliable-realm-222318-vcm/pipeline/batch_inputs/request2.json',\n",
      "                                    'gs://reliable-realm-222318-vcm/pipeline/batch_inputs/request3.json'],\n",
      "                     'modelName': 'projects/reliable-realm-222318/models/satellite',\n",
      "                     'outputPath': 'gs://reliable-realm-222318-vcm/pipeline/batch_outputs',\n",
      "                     'region': 'us-central1'}}\n"
     ]
    }
   ],
   "source": [
    "batch_predict_body = make_batch_job_body(project_name, \n",
    "                                         input_paths, \n",
    "                                         output_path,\n",
    "                                         model_name,\n",
    "                                         region='us-central1',\n",
    "                                         data_format='JSON',\n",
    "                                         version_name=None,\n",
    "                                         max_worker_count=None,\n",
    "                                         runtime_version=None)\n",
    "\n",
    "# pprint(batch_predict_body['predictionInput']['outputPath'])\n",
    "pprint(batch_predict_body)"
   ]
  },
  {
   "cell_type": "code",
   "execution_count": 200,
   "metadata": {},
   "outputs": [
    {
     "name": "stdout",
     "output_type": "stream",
     "text": [
      "Job requested.\n",
      "state : QUEUED\n"
     ]
    }
   ],
   "source": [
    "import googleapiclient.discovery as discovery\n",
    "from googleapiclient import errors\n",
    "\n",
    "project_id = 'projects/{}'.format(project_name)\n",
    "\n",
    "ml = discovery.build('ml', 'v1')\n",
    "request = ml.projects().jobs().create(parent=project_id,\n",
    "                                      body=batch_predict_body)\n",
    "\n",
    "try:\n",
    "    response = request.execute()\n",
    "\n",
    "    print('Job requested.')\n",
    "\n",
    "    # The state returned will almost always be QUEUED.\n",
    "    print('state : {}'.format(response['state']))\n",
    "\n",
    "except errors.HttpError as err:\n",
    "    # Something went wrong, print out some information.\n",
    "    print('There was an error getting the prediction results.' +\n",
    "          'Check the details:')\n",
    "    print(err._get_reason())"
   ]
  },
  {
   "cell_type": "markdown",
   "metadata": {},
   "source": [
    "## Monitor a job"
   ]
  },
  {
   "cell_type": "code",
   "execution_count": 201,
   "metadata": {},
   "outputs": [],
   "source": [
    "request = ml.projects().jobs().list(parent=projectID)\n",
    "response = request.execute()"
   ]
  },
  {
   "cell_type": "code",
   "execution_count": 202,
   "metadata": {},
   "outputs": [
    {
     "data": {
      "text/plain": [
       "[{'jobId': 'reliable_realm_222318_satellite_20181122_175215',\n",
       "  'predictionInput': {'modelName': 'projects/reliable-realm-222318/models/satellite',\n",
       "   'dataFormat': 'JSON',\n",
       "   'inputPaths': ['gs://reliable-realm-222318-vcm/pipeline/batch_inputs/request1.json',\n",
       "    'gs://reliable-realm-222318-vcm/pipeline/batch_inputs/request2.json',\n",
       "    'gs://reliable-realm-222318-vcm/pipeline/batch_inputs/request3.json'],\n",
       "   'outputPath': 'gs://reliable-realm-222318-vcm/pipeline/batch_outputs',\n",
       "   'region': 'us-central1',\n",
       "   'runtimeVersion': '1.10'},\n",
       "  'createTime': '2018-11-22T17:52:18Z',\n",
       "  'startTime': '2018-11-22T17:52:18Z',\n",
       "  'state': 'RUNNING',\n",
       "  'predictionOutput': {'outputPath': 'gs://reliable-realm-222318-vcm/pipeline/batch_outputs'},\n",
       "  'etag': 'ZyT2yaGMktQ='}]"
      ]
     },
     "execution_count": 202,
     "metadata": {},
     "output_type": "execute_result"
    }
   ],
   "source": [
    "[job for job in response['jobs'] if job['state'] == 'RUNNING']"
   ]
  }
 ],
 "metadata": {
  "kernelspec": {
   "display_name": "Python 3",
   "language": "python",
   "name": "python3"
  },
  "language_info": {
   "codemirror_mode": {
    "name": "ipython",
    "version": 3
   },
   "file_extension": ".py",
   "mimetype": "text/x-python",
   "name": "python",
   "nbconvert_exporter": "python",
   "pygments_lexer": "ipython3",
   "version": "3.6.5"
  }
 },
 "nbformat": 4,
 "nbformat_minor": 2
}
