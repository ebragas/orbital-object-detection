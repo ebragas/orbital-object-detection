{
 "cells": [
  {
   "cell_type": "markdown",
   "metadata": {
    "colab_type": "text",
    "id": "yyrWPiiHyT2W"
   },
   "source": [
    "# Image classification using TensorFlow estimators and TensorFlow Hub for transfer learning"
   ]
  },
  {
   "cell_type": "markdown",
   "metadata": {
    "colab_type": "text",
    "id": "MImaq1-xzVPo"
   },
   "source": [
    "*This notebook is available [as a codelab](https://colab.research.google.com/github/damienpontifex/BlogCodeSamples/blob/master/TransferLearning/TfHubDogsVsCats.ipynb)*"
   ]
  },
  {
   "cell_type": "markdown",
   "metadata": {
    "colab_type": "text",
    "id": "FASyCI8m-IS9"
   },
   "source": [
    "TensorFlow Hub was [announced](https://www.youtube.com/watch?v=rirzJ-e68cw) at TensorFlow Dev Summit 2018 and promises to reduce the effort required to use existing machine learning models and weights in your own custom model. From the [overview page](https://www.tensorflow.org/hub/)\n",
    "\n",
    "> TensorFlow Hub is a library to foster the publication, discovery, and consumption of reusable parts of machine learning models. A module is a self-contained piece of a TensorFlow graph, along with its weights and assets, that can be reused across different tasks in a process known as transfer learning.\n",
    "\n",
    "Dogs vs Cats is a great classification problem to learn about transfer learning and is the [first lesson of the fast.ai course](http://course.fast.ai/lessons/lesson1.html) and was hosted on Kaggle. The teaching is if you can achieve transfer learning for this two-class problem of cats and dogs, you can do it for any *n*-class problem for your own solution."
   ]
  },
  {
   "cell_type": "markdown",
   "metadata": {
    "colab_type": "text",
    "id": "x-EZntyo-IS-"
   },
   "source": [
    "### Prerequisites"
   ]
  },
  {
   "cell_type": "markdown",
   "metadata": {
    "colab_type": "text",
    "id": "LLfMb9rs-IS_"
   },
   "source": [
    "You will need to install TensorFlow Hub from pip and have at least TensorFlow version 1.7. I'm also assuming you have some understanding (although not required but will be in this code) of TensorFlow and machine learning, mainly:\n",
    "* Data preparation\n",
    "* tf.data input\n",
    "* TensorFlow estimators\n",
    "\n",
    "To ensure you've got the libraries installed run:"
   ]
  },
  {
   "cell_type": "code",
   "execution_count": null,
   "metadata": {
    "colab": {},
    "colab_type": "code",
    "id": "C6h95Y_e-IS_"
   },
   "outputs": [],
   "source": [
    "%%bash \n",
    "# pip3 install -qU tensorflow>=1.7.0 # Don't run this on Google's colab as you probably want to use the version they have pre-installed\n",
    "python -m pip install -qU tensorflow-hub"
   ]
  },
  {
   "cell_type": "markdown",
   "metadata": {
    "colab_type": "text",
    "id": "dsbq1eTO-ITC"
   },
   "source": [
    "Just some usual imports and matplotlib setup for notebooks. And then just print out some information about our TensorFlow environment"
   ]
  },
  {
   "cell_type": "code",
   "execution_count": 1,
   "metadata": {
    "colab": {},
    "colab_type": "code",
    "id": "xfWmW-C4yT2Z"
   },
   "outputs": [
    {
     "name": "stderr",
     "output_type": "stream",
     "text": [
      "/Users/ericbragas/anaconda3/lib/python3.6/site-packages/h5py/__init__.py:36: FutureWarning: Conversion of the second argument of issubdtype from `float` to `np.floating` is deprecated. In future, it will be treated as `np.float64 == np.dtype(float).type`.\n",
      "  from ._conv import register_converters as _register_converters\n"
     ]
    }
   ],
   "source": [
    "import os\n",
    "import tensorflow as tf\n",
    "import tensorflow_hub as hub\n",
    "\n",
    "l = tf.keras.layers"
   ]
  },
  {
   "cell_type": "code",
   "execution_count": 19,
   "metadata": {},
   "outputs": [
    {
     "data": {
      "text/plain": [
       "'1.11.0'"
      ]
     },
     "execution_count": 19,
     "metadata": {},
     "output_type": "execute_result"
    }
   ],
   "source": [
    "tf.__version__"
   ]
  },
  {
   "cell_type": "code",
   "execution_count": 2,
   "metadata": {
    "colab": {},
    "colab_type": "code",
    "id": "c8GjTBi1-ITG"
   },
   "outputs": [],
   "source": [
    "import matplotlib.pyplot as plt\n",
    "\n",
    "%matplotlib inline"
   ]
  },
  {
   "cell_type": "code",
   "execution_count": 3,
   "metadata": {
    "colab": {
     "base_uri": "https://localhost:8080/",
     "height": 51
    },
    "colab_type": "code",
    "id": "5CILIgB8yT2b",
    "outputId": "71bfc227-6b51-4c67-fea5-642338f2afb8"
   },
   "outputs": [
    {
     "name": "stdout",
     "output_type": "stream",
     "text": [
      "INFO:tensorflow:TF Version 1.11.0\n",
      "INFO:tensorflow:GPU Available False\n"
     ]
    }
   ],
   "source": [
    "tf.logging.info('TF Version {}'.format(tf.__version__))\n",
    "tf.logging.info('GPU Available {}'.format(tf.test.is_gpu_available()))\n",
    "if 'TF_CONFIG' in os.environ:\n",
    "    tf.logging.info('TF_CONFIG: {}'.format(os.environ[\"TF_CONFIG\"]))"
   ]
  },
  {
   "cell_type": "markdown",
   "metadata": {
    "colab_type": "text",
    "id": "uDKyHDlryT2Y"
   },
   "source": [
    "The Dogs vs Cats Kaggle competition is a two-class image classification problem. Transfer learning can be used to reduce the amount of computation and to reuse previously computed features of interest.\n",
    "\n",
    "For this, we'll look into the new TensorFlow Hub modules to train on our own dataset. First lets just grab, and have a look, at the data we've got."
   ]
  },
  {
   "cell_type": "markdown",
   "metadata": {
    "colab_type": "text",
    "id": "yBuHfgNEyT2g"
   },
   "source": [
    "## Data\n",
    "\n",
    "We will get the data from the fastai zip of the dogs and cats images. The file pattern on disk is to have each category of images labelled by placing all associated images into one folder. As such, we will have a folder named 'dogs' of all dog images and 'cats' of all cat images to train on."
   ]
  },
  {
   "cell_type": "markdown",
   "metadata": {
    "colab_type": "text",
    "id": "ZNCd9lh6yT2h"
   },
   "source": [
    "So that this notebook can be run anywhere, here we are just downloading the archive and placing it in a temporary local data directory"
   ]
  },
  {
   "cell_type": "code",
   "execution_count": 4,
   "metadata": {
    "colab": {},
    "colab_type": "code",
    "id": "OkOoTig1yT2j"
   },
   "outputs": [],
   "source": [
    "def get_data(local_data_root: str, is_chief: bool=True):\n",
    "    data_dir = os.path.join(local_data_root, 'datasets/dogscats')\n",
    "    \n",
    "    if is_chief:\n",
    "        if not tf.gfile.IsDirectory(data_dir):\n",
    "            # Download the data zip to our data directory and extract\n",
    "            fallback_url = 'http://files.fast.ai/data/dogscats.zip'\n",
    "            tf.keras.utils.get_file(\n",
    "                os.path.join(local_data_root, os.path.basename(fallback_url)), \n",
    "                fallback_url, \n",
    "                cache_dir=local_data_root,\n",
    "                extract=True)\n",
    "        \n",
    "    return data_dir"
   ]
  },
  {
   "cell_type": "code",
   "execution_count": 5,
   "metadata": {
    "colab": {},
    "colab_type": "code",
    "id": "wzq-Fi5z-ITV"
   },
   "outputs": [
    {
     "name": "stdout",
     "output_type": "stream",
     "text": [
      "Downloading data from http://files.fast.ai/data/dogscats.zip\n",
      "857219072/857214334 [==============================] - 44s 0us/step\n"
     ]
    }
   ],
   "source": [
    "data_dir = get_data('/tmp', True)"
   ]
  },
  {
   "cell_type": "markdown",
   "metadata": {
    "colab_type": "text",
    "id": "-5IESSdvyT2m"
   },
   "source": [
    "Looking at what is in the data directory"
   ]
  },
  {
   "cell_type": "code",
   "execution_count": 6,
   "metadata": {
    "colab": {
     "base_uri": "https://localhost:8080/",
     "height": 34
    },
    "colab_type": "code",
    "id": "UCGH9FF3yT2n",
    "outputId": "521043ff-cb0c-4031-a4f5-29dedc1fb99f"
   },
   "outputs": [
    {
     "data": {
      "text/plain": [
       "['valid', 'test1', 'models', 'sample', 'train']"
      ]
     },
     "execution_count": 6,
     "metadata": {},
     "output_type": "execute_result"
    }
   ],
   "source": [
    "tf.gfile.ListDirectory(data_dir)"
   ]
  },
  {
   "cell_type": "markdown",
   "metadata": {
    "colab_type": "text",
    "id": "u8IaDYSI3Hwv"
   },
   "source": [
    "Look in the valid directory to see the image classes. Here we see we have a folder of dogs and another of cats."
   ]
  },
  {
   "cell_type": "code",
   "execution_count": 7,
   "metadata": {
    "colab": {
     "base_uri": "https://localhost:8080/",
     "height": 34
    },
    "colab_type": "code",
    "id": "Q_p3NtYwyT2p",
    "outputId": "0c74f1db-0d40-43b0-d054-a362213a403b"
   },
   "outputs": [
    {
     "data": {
      "text/plain": [
       "['dogs', 'cats']"
      ]
     },
     "execution_count": 7,
     "metadata": {},
     "output_type": "execute_result"
    }
   ],
   "source": [
    "tf.gfile.ListDirectory(os.path.join(data_dir, 'valid'))"
   ]
  },
  {
   "cell_type": "code",
   "execution_count": 8,
   "metadata": {
    "colab": {
     "base_uri": "https://localhost:8080/",
     "height": 34
    },
    "colab_type": "code",
    "id": "4cucT-8nyT2r",
    "outputId": "c71e35b8-0226-4d21-abcf-50b4bf270010"
   },
   "outputs": [
    {
     "data": {
      "text/plain": [
       "['cat.9895.jpg',\n",
       " 'cat.10145.jpg',\n",
       " 'cat.11515.jpg',\n",
       " 'cat.9103.jpg',\n",
       " 'cat.7890.jpg']"
      ]
     },
     "execution_count": 8,
     "metadata": {},
     "output_type": "execute_result"
    }
   ],
   "source": [
    "cats = tf.gfile.ListDirectory(os.path.join(data_dir, 'valid', 'cats'))[:5]\n",
    "cats"
   ]
  },
  {
   "cell_type": "code",
   "execution_count": 9,
   "metadata": {
    "colab": {
     "base_uri": "https://localhost:8080/",
     "height": 269
    },
    "colab_type": "code",
    "id": "5z6CNbyu-ITf",
    "outputId": "5ee6edc6-364a-4c1a-9256-f60fe36cc7b9"
   },
   "outputs": [
    {
     "data": {
      "image/png": "[encoded data removed]",
      "text/plain": [
       "<Figure size 432x288 with 1 Axes>"
      ]
     },
     "metadata": {},
     "output_type": "display_data"
    }
   ],
   "source": [
    "with tf.gfile.GFile(os.path.join(data_dir, 'valid', 'cats', cats[0]), 'rb') as f:\n",
    "    img = plt.imread(f)\n",
    "    plt.imshow(img)"
   ]
  },
  {
   "cell_type": "code",
   "execution_count": 10,
   "metadata": {
    "colab": {
     "base_uri": "https://localhost:8080/",
     "height": 34
    },
    "colab_type": "code",
    "id": "AJpkogZuyT20",
    "outputId": "2b31638a-4798-41c8-93db-e6eef6bf53b7"
   },
   "outputs": [
    {
     "data": {
      "text/plain": [
       "(499, 410, 3)"
      ]
     },
     "execution_count": 10,
     "metadata": {},
     "output_type": "execute_result"
    }
   ],
   "source": [
    "img.shape"
   ]
  },
  {
   "cell_type": "markdown",
   "metadata": {
    "colab_type": "text",
    "id": "Fvc9MEvlyT22"
   },
   "source": [
    "## tf.data to access our dataset"
   ]
  },
  {
   "cell_type": "markdown",
   "metadata": {
    "colab_type": "text",
    "id": "Q0wBO0U3yT23"
   },
   "source": [
    "Our dataset input function is responsible for providing features and labels to the network. We will use a glob pattern via the `file_pattern` parameter to indicate the files on disk and return a dataset to use."
   ]
  },
  {
   "cell_type": "code",
   "execution_count": 11,
   "metadata": {
    "colab": {},
    "colab_type": "code",
    "id": "5D8klxXC-ITk"
   },
   "outputs": [],
   "source": [
    "def _img_string_to_tensor(image_string, image_size=(299, 299)):\n",
    "    \"\"\"Decodes jpeg image bytes and resizes into float32 tensor\n",
    "    \n",
    "    Args:\n",
    "      image_string: A Tensor of type string that has the image bytes\n",
    "    \n",
    "    Returns:\n",
    "      float32 tensor of the image\n",
    "    \"\"\"\n",
    "    image_decoded = tf.image.decode_jpeg(image_string, channels=3)\n",
    "    # Convert from full range of uint8 to range [0,1] of float32.\n",
    "    image_decoded_as_float = tf.image.convert_image_dtype(image_decoded, dtype=tf.float32)\n",
    "    # Resize to expected\n",
    "    image_resized = tf.image.resize_images(image_decoded_as_float, size=image_size)\n",
    "    \n",
    "    return image_resized"
   ]
  },
  {
   "cell_type": "code",
   "execution_count": 21,
   "metadata": {
    "colab": {},
    "colab_type": "code",
    "id": "1NNmeWQhyT23"
   },
   "outputs": [],
   "source": [
    "def make_dataset(file_pattern, image_size=(299, 299), shuffle=False, batch_size=64, num_epochs=None, buffer_size=4096):\n",
    "    \"\"\"Makes a dataset reading the input images given the file pattern\n",
    "    \n",
    "    Args:\n",
    "      file_pattern: File pattern to match input files with\n",
    "      image_size: size to resize images to\n",
    "      shuffle: whether to shuffle the dataset\n",
    "      batch_size: the batch size of the dataset\n",
    "      num_epochs: number of times to repeat iteration of the dataset\n",
    "      buffer_size: size of buffer for prefetch and shuffle operations\n",
    "    \n",
    "    Returns:\n",
    "      A tf.data.Dataset with dictionary of key to Tensor for features and label Tensor of type string\n",
    "    \"\"\"\n",
    "    \n",
    "    def _path_to_img(path):\n",
    "        \"\"\"From the given path returns a feature dictionary and label pair\n",
    "        \n",
    "        Args:\n",
    "          path: A Tensor of type string of the file path to read from\n",
    "          \n",
    "        Returns:\n",
    "          Tuple of dict and tensor. \n",
    "          Dictionary is key to tensor mapping of features\n",
    "          Label is a Tensor of type string that is the label for these features\n",
    "        \"\"\"\n",
    "        # Get the parent folder of this file to get it's class name\n",
    "        label = tf.string_split([path], delimiter='/').values[-2]\n",
    "        \n",
    "        # Read in the image from disk\n",
    "        image_string = tf.io.read_file(path)\n",
    "        image_resized = _img_string_to_tensor(image_string, image_size)\n",
    "        \n",
    "        return { 'image': image_resized }, label\n",
    "    \n",
    "#     opt = tf.data.Options()\n",
    "#     opt.experimental_autotune = True\n",
    "#     opt.experimental_map_and_batch_fusion = True\n",
    "#     opt.experimental_shuffle_and_repeat_fusion = True\n",
    "    \n",
    "    dataset = tf.data.Dataset.list_files(file_pattern)\n",
    "\n",
    "    if shuffle:\n",
    "        dataset = dataset.shuffle(buffer_size)\n",
    "\n",
    "    dataset = dataset.repeat(num_epochs)\n",
    "    dataset = dataset.map(_path_to_img)\n",
    "    dataset = dataset.batch(batch_size).prefetch(buffer_size)\n",
    "\n",
    "#     dataset = dataset.with_options(opt)\n",
    "\n",
    "    return dataset"
   ]
  },
  {
   "cell_type": "markdown",
   "metadata": {
    "colab_type": "text",
    "id": "n6Es-6sjyT26"
   },
   "source": [
    "## Our first model"
   ]
  },
  {
   "cell_type": "markdown",
   "metadata": {
    "colab_type": "text",
    "id": "wRZKeml15-iW"
   },
   "source": [
    "We're setting up an esimator `model_fn` so we can include the module as the base and then provide our own dense layer and activations to be trained for our use case. We're passing in the module spec (a string) via the `params` dictionary so we could swap out another image classification model easily.\n",
    "\n",
    "The highlight here for TensorFlow Hub and transfer learning are these lines:\n",
    "\n",
    "```python\n",
    "module = hub.Module(params['module_spec'], trainable=is_training, name=params['module_name'])\n",
    "bottleneck_tensor = module(features['image'])\n",
    "```\n",
    "\n",
    "We load up the module and specify whether we would like to fine tune it or not. Then pass in our image tensor to the module and get the output tensor as `bottleneck_tensor` to be used in further layers. If you see a diagram of the structure of some of these models, the simplification of this down to two lines is amazing!"
   ]
  },
  {
   "cell_type": "code",
   "execution_count": 13,
   "metadata": {
    "colab": {},
    "colab_type": "code",
    "id": "FYAwIHlE4gfh"
   },
   "outputs": [],
   "source": [
    "def model_fn(features, labels, mode, params):\n",
    "    \"\"\"tf.estimator model function implementation for retraining an image classifier from a \n",
    "    tf hub module\n",
    "    \n",
    "    Args:\n",
    "      features: dictionary of key to Tensor\n",
    "      labels: Tensor of type string\n",
    "      mode: estimator mode\n",
    "      params: dictionary of parameters\n",
    "      \n",
    "    Returns:\n",
    "      tf.estimator.EstimatorSpec instance\n",
    "    \"\"\"\n",
    "    is_training = mode == tf.estimator.ModeKeys.TRAIN\n",
    "    module_trainable = is_training and params.get('train_module', False)\n",
    "\n",
    "    module = hub.Module(params['module_spec'], trainable=module_trainable, name=params['module_name'])\n",
    "    bottleneck_tensor = module(features['image'])\n",
    "    \n",
    "    NUM_CLASSES = len(params['label_vocab'])\n",
    "    logit_units = 1 if NUM_CLASSES == 2 else NUM_CLASSES\n",
    "    logits = l.Dense(logit_units)(bottleneck_tensor)\n",
    "\n",
    "    if NUM_CLASSES == 2:\n",
    "        head = tf.contrib.estimator.binary_classification_head(label_vocabulary=params['label_vocab'])\n",
    "    else:\n",
    "        head = tf.contrib.estimator.multi_class_head(n_classes=NUM_CLASSES, label_vocabulary=params['label_vocab'])\n",
    "\n",
    "    optimizer = tf.train.AdamOptimizer(learning_rate=params.get('learning_rate', 1e-3))\n",
    "    \n",
    "    return head.create_estimator_spec(\n",
    "        features, mode, logits, labels, optimizer=optimizer\n",
    "    )"
   ]
  },
  {
   "cell_type": "markdown",
   "metadata": {
    "colab_type": "text",
    "id": "LxHuvqdo-ITt"
   },
   "source": [
    "Finally, we setup our estimator as per usual:\n",
    "\n",
    "* Define some hyperparameters\n",
    "* Construct the estimator\n",
    "* `train_and_evaluate`\n",
    "\n",
    "And with that, we get distributed training and great device placement for data processing on the CPU and training on the GPU."
   ]
  },
  {
   "cell_type": "code",
   "execution_count": 22,
   "metadata": {
    "colab": {},
    "colab_type": "code",
    "id": "fzrxTWnD9hBr"
   },
   "outputs": [],
   "source": [
    "def train():\n",
    "    \"\"\"Run training operation\n",
    "    \"\"\"\n",
    "    \n",
    "    run_config = tf.estimator.RunConfig()\n",
    "    \n",
    "    data_directory = get_data('/tmp', run_config.is_chief)\n",
    "    model_directory = '/tmp/dogscats/run2'\n",
    "\n",
    "    params = {\n",
    "        'module_spec': 'https://tfhub.dev/google/imagenet/resnet_v2_50/feature_vector/1',\n",
    "        'module_name': 'resnet_v2_50',\n",
    "        'learning_rate': 1e-3,\n",
    "        'train_module': False,  # Whether we want to finetune the module\n",
    "        'label_vocab': tf.gfile.ListDirectory(os.path.join(data_directory, 'valid'))\n",
    "    }\n",
    "\n",
    "    classifier = tf.estimator.Estimator(\n",
    "        model_fn=model_fn,\n",
    "        model_dir=model_directory,\n",
    "        config=run_config,\n",
    "        params=params\n",
    "    )\n",
    "\n",
    "    input_img_size = hub.get_expected_image_size(hub.Module(params['module_spec']))\n",
    "\n",
    "    train_files = os.path.join(data_directory, 'train', '**/*.jpg')\n",
    "    train_input_fn = lambda: make_dataset(train_files, image_size=input_img_size, batch_size=8, shuffle=True)\n",
    "    train_spec = tf.estimator.TrainSpec(train_input_fn, max_steps=30)\n",
    "\n",
    "    eval_files = os.path.join(data_directory, 'valid', '**/*.jpg')\n",
    "    eval_input_fn = lambda: make_dataset(eval_files, image_size=input_img_size, batch_size=1)\n",
    "    eval_spec = tf.estimator.EvalSpec(eval_input_fn)\n",
    "\n",
    "    tf.estimator.train_and_evaluate(classifier, train_spec, eval_spec)"
   ]
  },
  {
   "cell_type": "code",
   "execution_count": 23,
   "metadata": {
    "colab": {
     "base_uri": "https://localhost:8080/",
     "height": 377
    },
    "colab_type": "code",
    "id": "rYLgeNKc_SX_",
    "outputId": "e8394a49-38e1-4f13-81a9-d5f293466fef",
    "scrolled": false
   },
   "outputs": [
    {
     "name": "stdout",
     "output_type": "stream",
     "text": [
      "INFO:tensorflow:Using config: {'_model_dir': '/tmp/dogscats/run2', '_tf_random_seed': None, '_save_summary_steps': 100, '_save_checkpoints_steps': None, '_save_checkpoints_secs': 600, '_session_config': allow_soft_placement: true\n",
      "graph_options {\n",
      "  rewrite_options {\n",
      "    meta_optimizer_iterations: ONE\n",
      "  }\n",
      "}\n",
      ", '_keep_checkpoint_max': 5, '_keep_checkpoint_every_n_hours': 10000, '_log_step_count_steps': 100, '_train_distribute': None, '_device_fn': None, '_protocol': None, '_eval_distribute': None, '_experimental_distribute': None, '_service': None, '_cluster_spec': <tensorflow.python.training.server_lib.ClusterSpec object at 0x112297898>, '_task_type': 'worker', '_task_id': 0, '_global_id_in_cluster': 0, '_master': '', '_evaluation_master': '', '_is_chief': True, '_num_ps_replicas': 0, '_num_worker_replicas': 1}\n",
      "INFO:tensorflow:Running training and evaluation locally (non-distributed).\n",
      "INFO:tensorflow:Start train and evaluate loop. The evaluate will happen after every checkpoint. Checkpoint frequency is determined based on RunConfig arguments: save_checkpoints_steps None or save_checkpoints_secs 600.\n",
      "INFO:tensorflow:Calling model_fn.\n",
      "INFO:tensorflow:Saver not created because there are no variables in the graph to restore\n",
      "INFO:tensorflow:Done calling model_fn.\n",
      "INFO:tensorflow:Create CheckpointSaverHook.\n",
      "INFO:tensorflow:Graph was finalized.\n",
      "INFO:tensorflow:Running local_init_op.\n",
      "INFO:tensorflow:Done running local_init_op.\n",
      "INFO:tensorflow:Saving checkpoints for 0 into /tmp/dogscats/run2/model.ckpt.\n",
      "INFO:tensorflow:loss = 0.8616283, step = 1\n",
      "INFO:tensorflow:Saving checkpoints for 30 into /tmp/dogscats/run2/model.ckpt.\n",
      "INFO:tensorflow:Calling model_fn.\n",
      "INFO:tensorflow:Saver not created because there are no variables in the graph to restore\n",
      "WARNING:tensorflow:Trapezoidal rule is known to produce incorrect PR-AUCs; please switch to \"careful_interpolation\" instead.\n",
      "WARNING:tensorflow:Trapezoidal rule is known to produce incorrect PR-AUCs; please switch to \"careful_interpolation\" instead.\n",
      "INFO:tensorflow:Done calling model_fn.\n",
      "INFO:tensorflow:Starting evaluation at 2018-11-24-18:53:09\n",
      "INFO:tensorflow:Graph was finalized.\n",
      "INFO:tensorflow:Restoring parameters from /tmp/dogscats/run2/model.ckpt-30\n",
      "INFO:tensorflow:Running local_init_op.\n",
      "INFO:tensorflow:Done running local_init_op.\n",
      "INFO:tensorflow:Evaluation [10/100]\n",
      "INFO:tensorflow:Evaluation [20/100]\n",
      "INFO:tensorflow:Evaluation [30/100]\n",
      "INFO:tensorflow:Evaluation [40/100]\n",
      "INFO:tensorflow:Evaluation [50/100]\n",
      "INFO:tensorflow:Evaluation [60/100]\n",
      "INFO:tensorflow:Evaluation [70/100]\n",
      "INFO:tensorflow:Evaluation [80/100]\n",
      "INFO:tensorflow:Evaluation [90/100]\n",
      "INFO:tensorflow:Evaluation [100/100]\n",
      "INFO:tensorflow:Finished evaluation at 2018-11-24-18:53:23\n",
      "INFO:tensorflow:Saving dict for global step 30: accuracy = 0.95, accuracy_baseline = 0.55, auc = 0.98888886, auc_precision_recall = 0.9893695, average_loss = 0.14429112, global_step = 30, label/mean = 0.45, loss = 0.14429112, precision = 0.97619045, prediction/mean = 0.42250052, recall = 0.9111111\n",
      "INFO:tensorflow:Saving 'checkpoint_path' summary for global step 30: /tmp/dogscats/run2/model.ckpt-30\n",
      "INFO:tensorflow:Loss for final step: 0.11476864.\n"
     ]
    }
   ],
   "source": [
    "train()"
   ]
  },
  {
   "cell_type": "code",
   "execution_count": null,
   "metadata": {
    "colab": {},
    "colab_type": "code",
    "id": "PlrHicQFKKYQ"
   },
   "outputs": [],
   "source": [
    "## Conclusion"
   ]
  },
  {
   "cell_type": "markdown",
   "metadata": {
    "colab_type": "text",
    "id": "B2sxeHqM-ITy"
   },
   "source": [
    "TensorFlow Hub will significantely increase the approachability for people to use complex models from others for their own specific task. The ability to fine tune while also using as is continues to democritize everyone's use of ML tools."
   ]
  },
  {
   "cell_type": "code",
   "execution_count": 32,
   "metadata": {},
   "outputs": [
    {
     "data": {
      "text/plain": [
       "['dogs', 'cats']"
      ]
     },
     "execution_count": 32,
     "metadata": {},
     "output_type": "execute_result"
    }
   ],
   "source": [
    "# tf.gfile.ListDirectory(os.path.join('/tmp/datasets/dogscats/', 'valid'))\n",
    "tf.gfile.ListDirectory(os.path.join('/tmp/datasets/dogscats/', 'valid'))"
   ]
  }
 ],
 "metadata": {
  "accelerator": "GPU",
  "colab": {
   "collapsed_sections": [],
   "name": "TfHubDogsVsCats.ipynb",
   "provenance": [],
   "version": "0.3.2"
  },
  "kernelspec": {
   "display_name": "Python 3",
   "language": "python",
   "name": "python3"
  },
  "language_info": {
   "codemirror_mode": {
    "name": "ipython",
    "version": 3
   },
   "file_extension": ".py",
   "mimetype": "text/x-python",
   "name": "python",
   "nbconvert_exporter": "python",
   "pygments_lexer": "ipython3",
   "version": "3.6.5"
  }
 },
 "nbformat": 4,
 "nbformat_minor": 2
}
